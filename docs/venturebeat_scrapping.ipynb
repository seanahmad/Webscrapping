{
 "cells": [
  {
   "cell_type": "code",
   "execution_count": null,
   "metadata": {},
   "outputs": [],
   "source": [
    "import requests\n",
    "from bs4 import BeautifulSoup"
   ]
  },
  {
   "cell_type": "code",
   "execution_count": null,
   "metadata": {},
   "outputs": [],
   "source": [
    "url = 'https://venturebeat.com/'\n",
    "r = requests.get(url)\n",
    "html_content = r.text\n",
    "\n",
    "if html_content is not None:\n",
    "    # create a beautiful soup object\n",
    "    html_soup = BeautifulSoup(html_content, \"html.parser\")\n",
    "    print(type(html_soup))\n",
    "else:\n",
    "    raise Exception('Error getting data from {}'.format(url))"
   ]
  },
  {
   "cell_type": "code",
   "execution_count": null,
   "metadata": {},
   "outputs": [],
   "source": [
    "html_soup.prettify"
   ]
  },
  {
   "cell_type": "code",
   "execution_count": null,
   "metadata": {},
   "outputs": [],
   "source": [
    "articles = [ html_soup.find('a', class_='Hero__title-link')['href'] ]\n",
    "more_articles = html_soup.find_all('a', class_='ArticleListing__image-link')\n",
    "\n",
    "for i in more_articles:\n",
    "    articles.append(i['href'])\n",
    "articles"
   ]
  },
  {
   "cell_type": "code",
   "execution_count": null,
   "metadata": {},
   "outputs": [],
   "source": [
    "r_docs = [ requests.get(i) for i in articles]\n",
    "get_docs = [BeautifulSoup(i.text, 'html.parser') for i in r_docs]\n",
    "def get_text(html_doc):\n",
    "    doc = []\n",
    "    articlecontent = html_doc.find(class_= 'article-content')\n",
    "    for i in articlecontent.find_all('p'):\n",
    "        doc.append(i.text)\n",
    "    return doc\n",
    "\n",
    "all_docs = [get_text(i) for i in get_docs]"
   ]
  },
  {
   "cell_type": "code",
   "execution_count": null,
   "metadata": {
    "scrolled": true
   },
   "outputs": [],
   "source": [
    "len(all_docs)"
   ]
  },
  {
   "cell_type": "code",
   "execution_count": null,
   "metadata": {},
   "outputs": [],
   "source": []
  }
 ],
 "metadata": {
  "kernelspec": {
   "display_name": "Python 3",
   "language": "python",
   "name": "python3"
  },
  "language_info": {
   "codemirror_mode": {
    "name": "ipython",
    "version": 3
   },
   "file_extension": ".py",
   "mimetype": "text/x-python",
   "name": "python",
   "nbconvert_exporter": "python",
   "pygments_lexer": "ipython3",
   "version": "3.7.3"
  }
 },
 "nbformat": 4,
 "nbformat_minor": 2
}
